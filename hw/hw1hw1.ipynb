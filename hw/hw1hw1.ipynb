{
 "cells": [
  {
   "cell_type": "code",
   "execution_count": 1,
   "metadata": {
    "_cell_guid": "b1076dfc-b9ad-4769-8c92-a6c4dae69d19",
    "_uuid": "8f2839f25d086af736a60e9eeb907d3b93b6e0e5",
    "execution": {
     "iopub.execute_input": "2021-03-21T14:04:15.080622Z",
     "iopub.status.busy": "2021-03-21T14:04:15.079672Z",
     "iopub.status.idle": "2021-03-21T14:04:15.085505Z",
     "shell.execute_reply": "2021-03-21T14:04:15.086237Z"
    },
    "papermill": {
     "duration": 0.027335,
     "end_time": "2021-03-21T14:04:15.086616",
     "exception": false,
     "start_time": "2021-03-21T14:04:15.059281",
     "status": "completed"
    },
    "tags": []
   },
   "outputs": [
    {
     "name": "stdout",
     "output_type": "stream",
     "text": [
      "/kaggle/input/ml2021spring-hw1/covid.test.csv\n",
      "/kaggle/input/ml2021spring-hw1/sampleSubmission.csv\n",
      "/kaggle/input/ml2021spring-hw1/covid.train.csv\n"
     ]
    }
   ],
   "source": [
    "# This Python 3 environment comes with many helpful analytics libraries installed\n",
    "# It is defined by the kaggle/python Docker image: https://github.com/kaggle/docker-python\n",
    "# For example, here's several helpful packages to load\n",
    "\n",
    "import numpy as np # linear algebra\n",
    "import pandas as pd # data processing, CSV file I/O (e.g. pd.read_csv)\n",
    "\n",
    "# Input data files are available in the read-only \"../input/\" directory\n",
    "# For example, running this (by clicking run or pressing Shift+Enter) will list all files under the input directory\n",
    "\n",
    "import os\n",
    "for dirname, _, filenames in os.walk('/kaggle/input'):\n",
    "    for filename in filenames:\n",
    "        print(os.path.join(dirname, filename))\n",
    "\n",
    "# You can write up to 20GB to the current directory (/kaggle/working/) that gets preserved as output when you create a version using \"Save & Run All\" \n",
    "# You can also write temporary files to /kaggle/temp/, but they won't be saved outside of the current session"
   ]
  },
  {
   "cell_type": "code",
   "execution_count": 2,
   "metadata": {
    "execution": {
     "iopub.execute_input": "2021-03-21T14:04:15.119652Z",
     "iopub.status.busy": "2021-03-21T14:04:15.117998Z",
     "iopub.status.idle": "2021-03-21T14:04:16.327317Z",
     "shell.execute_reply": "2021-03-21T14:04:16.328221Z"
    },
    "papermill": {
     "duration": 1.228857,
     "end_time": "2021-03-21T14:04:16.328445",
     "exception": false,
     "start_time": "2021-03-21T14:04:15.099588",
     "status": "completed"
    },
    "tags": []
   },
   "outputs": [],
   "source": [
    "import csv\n",
    "\n",
    "import torch\n",
    "import numpy as np\n",
    "from matplotlib.pyplot import figure\n",
    "from torch.utils.data import Dataset\n",
    "from torch.utils.data import DataLoader\n",
    "from matplotlib import pyplot as plt\n"
   ]
  },
  {
   "cell_type": "code",
   "execution_count": 3,
   "metadata": {
    "execution": {
     "iopub.execute_input": "2021-03-21T14:04:16.357208Z",
     "iopub.status.busy": "2021-03-21T14:04:16.356078Z",
     "iopub.status.idle": "2021-03-21T14:04:16.361594Z",
     "shell.execute_reply": "2021-03-21T14:04:16.362193Z"
    },
    "papermill": {
     "duration": 0.021853,
     "end_time": "2021-03-21T14:04:16.362523",
     "exception": false,
     "start_time": "2021-03-21T14:04:16.340670",
     "status": "completed"
    },
    "tags": []
   },
   "outputs": [],
   "source": [
    "# 超参数\n",
    "batch_size = 64\n",
    "learning_rate = 0.001\n",
    "epochs = 3000\n",
    "model_path = 'model.pth'\n",
    "early_stop = 300\n",
    "target_only = False\n",
    "weight_decay = 0.1\n",
    "momentum = 0.1"
   ]
  },
  {
   "cell_type": "code",
   "execution_count": 4,
   "metadata": {
    "execution": {
     "iopub.execute_input": "2021-03-21T14:04:16.392136Z",
     "iopub.status.busy": "2021-03-21T14:04:16.391002Z",
     "iopub.status.idle": "2021-03-21T14:04:16.405610Z",
     "shell.execute_reply": "2021-03-21T14:04:16.406212Z"
    },
    "papermill": {
     "duration": 0.031123,
     "end_time": "2021-03-21T14:04:16.406416",
     "exception": false,
     "start_time": "2021-03-21T14:04:16.375293",
     "status": "completed"
    },
    "tags": []
   },
   "outputs": [],
   "source": [
    "class covidDataset(Dataset):\n",
    "    # def __init__(self, filepath, type='train'):\n",
    "    #     data = np.loadtxt(filepath, skiprows=1, delimiter=',', dtype=np.float32)\n",
    "    #     self.len = data.shape[0]\n",
    "    #     if type == 'train':\n",
    "    #         self.x_data = torch.from_numpy(data[:, 1:-1])\n",
    "    #         self.y_data = torch.from_numpy(data[:, [-1]])\n",
    "    #     else:\n",
    "    #         self.x_data = torch.from_numpy(data[:, 1:])\n",
    "    #\n",
    "    # def __getitem__(self, index):\n",
    "    #     return self.x_data[index], self.y_data[index]\n",
    "    #\n",
    "    # def __len__(self):\n",
    "    #     return self.len\n",
    "\n",
    "    def __init__(self,\n",
    "                 filepath,\n",
    "                 mode='train',\n",
    "                 target_only=False):\n",
    "        self.mode = mode\n",
    "\n",
    "        # Read data into numpy arrays\n",
    "        data = np.loadtxt(filepath, skiprows=1, delimiter=',', dtype=np.float32)\n",
    "        data = data[:, 1:]\n",
    "\n",
    "        if not target_only:\n",
    "            feats = list(range(93))\n",
    "        else:\n",
    "            # TODO: Using 40 states & 2 tested_positive features (indices = 57 & 75)\n",
    "            feats = list(range(40))\n",
    "            feats.append(57)\n",
    "            feats.append(75)\n",
    "\n",
    "        if mode == 'test':\n",
    "            # Testing data\n",
    "            # data: 893 x 93 (40 states + day 1 (18) + day 2 (18) + day 3 (17))\n",
    "            data = data[:, feats]\n",
    "            self.data = torch.from_numpy(data)\n",
    "        else:\n",
    "            # Training data (train/dev sets)\n",
    "            # data: 2700 x 94 (40 states + day 1 (18) + day 2 (18) + day 3 (18))\n",
    "            target = data[:, -1]\n",
    "            data = data[:, feats]\n",
    "\n",
    "            # Splitting training data into train & dev sets\n",
    "            if mode == 'train':\n",
    "                indices = [i for i in range(len(data)) if i % 10 != 0]\n",
    "            elif mode == 'dev':\n",
    "                indices = [i for i in range(len(data)) if i % 10 == 0]\n",
    "\n",
    "            # Convert data into PyTorch tensors\n",
    "            self.data = torch.from_numpy(data[indices])\n",
    "            self.target = torch.from_numpy(target[indices])\n",
    "\n",
    "        # Normalize features (you may remove this part to see what will happen)\n",
    "        # self.data[:, 40:] = \\\n",
    "        #     (self.data[:, 40:] - self.data[:, 40:].mean(dim=0, keepdim=True)) \\\n",
    "        #     / self.data[:, 40:].std(dim=0, keepdim=True)\n",
    "\n",
    "        self.dim = self.data.shape[1]\n",
    "\n",
    "        print('Finished reading the {} set of COVID19 Dataset ({} samples found, each dim = {})'\n",
    "              .format(mode, len(self.data), self.dim))\n",
    "\n",
    "    def __getitem__(self, index):\n",
    "        # Returns one sample at a time\n",
    "        if self.mode in ['train', 'dev']:\n",
    "            # For training\n",
    "            return self.data[index], self.target[index]\n",
    "        else:\n",
    "            # For testing (no target)\n",
    "            return self.data[index]\n",
    "\n",
    "    def __len__(self):\n",
    "        # Returns the size of the dataset\n",
    "        return len(self.data)\n",
    "\n"
   ]
  },
  {
   "cell_type": "code",
   "execution_count": 5,
   "metadata": {
    "execution": {
     "iopub.execute_input": "2021-03-21T14:04:16.435596Z",
     "iopub.status.busy": "2021-03-21T14:04:16.434579Z",
     "iopub.status.idle": "2021-03-21T14:04:16.441453Z",
     "shell.execute_reply": "2021-03-21T14:04:16.441998Z"
    },
    "papermill": {
     "duration": 0.023349,
     "end_time": "2021-03-21T14:04:16.442236",
     "exception": false,
     "start_time": "2021-03-21T14:04:16.418887",
     "status": "completed"
    },
    "tags": []
   },
   "outputs": [],
   "source": [
    "def dataloader(path, mode, batch_size, n_jobs=0, target_only=False):\n",
    "    ''' Generates a dataset, then is put into a dataloader. '''\n",
    "    dataset = covidDataset(path, mode=mode, target_only=target_only)  # Construct dataset\n",
    "    dataloader = DataLoader(\n",
    "        dataset=dataset,\n",
    "        batch_size=batch_size,\n",
    "        shuffle=(mode == 'train'),\n",
    "        num_workers=n_jobs,                         # how many subprocesses to use for data loading. 0 means that the data will be loaded in the main process\n",
    "        pin_memory=True)                            # Construct dataloader\n",
    "    return dataloader\n",
    "\n",
    "\n"
   ]
  },
  {
   "cell_type": "code",
   "execution_count": 6,
   "metadata": {
    "execution": {
     "iopub.execute_input": "2021-03-21T14:04:16.473921Z",
     "iopub.status.busy": "2021-03-21T14:04:16.472627Z",
     "iopub.status.idle": "2021-03-21T14:04:16.478693Z",
     "shell.execute_reply": "2021-03-21T14:04:16.479283Z"
    },
    "papermill": {
     "duration": 0.02386,
     "end_time": "2021-03-21T14:04:16.479483",
     "exception": false,
     "start_time": "2021-03-21T14:04:16.455623",
     "status": "completed"
    },
    "tags": []
   },
   "outputs": [],
   "source": [
    "device = torch.device(\"cuda\" if torch.cuda.is_available() else \"cpu\")\n"
   ]
  },
  {
   "cell_type": "code",
   "execution_count": 7,
   "metadata": {
    "execution": {
     "iopub.execute_input": "2021-03-21T14:04:16.512809Z",
     "iopub.status.busy": "2021-03-21T14:04:16.511763Z",
     "iopub.status.idle": "2021-03-21T14:04:16.521610Z",
     "shell.execute_reply": "2021-03-21T14:04:16.522184Z"
    },
    "papermill": {
     "duration": 0.028764,
     "end_time": "2021-03-21T14:04:16.522381",
     "exception": false,
     "start_time": "2021-03-21T14:04:16.493617",
     "status": "completed"
    },
    "tags": []
   },
   "outputs": [],
   "source": [
    "class Model(torch.nn.Module):\n",
    "    def __init__(self, features):\n",
    "        super(Model, self).__init__()\n",
    "        self.linear1 = torch.nn.Linear(features, 128)\n",
    "\n",
    "        self.linear2 = torch.nn.Linear(128, 64)\n",
    "\n",
    "        self.linear3 = torch.nn.Linear(64, 32)\n",
    "\n",
    "        self.linear4 = torch.nn.Linear(32, 8)\n",
    "\n",
    "        self.linear5 = torch.nn.Linear(8, 1)\n",
    "        self.relu = torch.nn.ReLU()\n",
    "\n",
    "\n",
    "\n",
    "    def forward(self, x):\n",
    "        in_size = x.size(0)\n",
    "        x = self.relu(self.linear1(x))\n",
    "        x = self.relu(self.linear2(x))\n",
    "        x = self.relu(self.linear3(x))\n",
    "        x = self.relu(self.linear4(x))\n",
    "        x = self.relu(self.linear5(x))\n",
    "        x = x.view(in_size)\n",
    "        return x\n"
   ]
  },
  {
   "cell_type": "code",
   "execution_count": 8,
   "metadata": {
    "execution": {
     "iopub.execute_input": "2021-03-21T14:04:16.553186Z",
     "iopub.status.busy": "2021-03-21T14:04:16.552137Z",
     "iopub.status.idle": "2021-03-21T14:04:17.105389Z",
     "shell.execute_reply": "2021-03-21T14:04:17.104794Z"
    },
    "papermill": {
     "duration": 0.570374,
     "end_time": "2021-03-21T14:04:17.105555",
     "exception": false,
     "start_time": "2021-03-21T14:04:16.535181",
     "status": "completed"
    },
    "tags": []
   },
   "outputs": [
    {
     "name": "stdout",
     "output_type": "stream",
     "text": [
      "Finished reading the train set of COVID19 Dataset (2430 samples found, each dim = 93)\n",
      "Finished reading the dev set of COVID19 Dataset (270 samples found, each dim = 93)\n",
      "Finished reading the test set of COVID19 Dataset (893 samples found, each dim = 93)\n"
     ]
    }
   ],
   "source": [
    "\n",
    "# load data\n",
    "tr_path = '../input/ml2021spring-hw1/covid.train.csv'\n",
    "tt_path = '../input/ml2021spring-hw1/covid.test.csv'\n",
    "train_loader = dataloader(tr_path, 'train', batch_size, target_only=target_only)\n",
    "dev_loader = dataloader(tr_path, 'dev', batch_size, target_only=target_only)\n",
    "test_loader = dataloader(tt_path, 'test', batch_size, target_only=target_only)\n",
    "\n"
   ]
  },
  {
   "cell_type": "code",
   "execution_count": 9,
   "metadata": {
    "execution": {
     "iopub.execute_input": "2021-03-21T14:04:17.146010Z",
     "iopub.status.busy": "2021-03-21T14:04:17.145282Z",
     "iopub.status.idle": "2021-03-21T14:04:17.167847Z",
     "shell.execute_reply": "2021-03-21T14:04:17.165897Z"
    },
    "papermill": {
     "duration": 0.048915,
     "end_time": "2021-03-21T14:04:17.168042",
     "exception": false,
     "start_time": "2021-03-21T14:04:17.119127",
     "status": "completed"
    },
    "tags": []
   },
   "outputs": [],
   "source": [
    "\n",
    "model = Model(train_loader.dataset.dim).to(device)\n",
    "\n",
    "# construct loss and optimizer\n",
    "criterion = torch.nn.MSELoss(reduction='mean')\n",
    "optimizer = torch.optim.Adam(model.parameters(),\n",
    "                             lr=learning_rate,\n",
    "                             weight_decay=weight_decay)\n",
    "# optimizer = torch.optim.SGD(model.parameters(),\n",
    "#                             lr=learning_rate,\n",
    "#                             weight_decay=weight_decay,\n",
    "#                             momentum=momentum)\n",
    "\n",
    "\n",
    "# lossRecord = [0.0 for _ in range(epochs)]\n"
   ]
  },
  {
   "cell_type": "code",
   "execution_count": 10,
   "metadata": {
    "execution": {
     "iopub.execute_input": "2021-03-21T14:04:17.201429Z",
     "iopub.status.busy": "2021-03-21T14:04:17.200670Z",
     "iopub.status.idle": "2021-03-21T14:04:17.203018Z",
     "shell.execute_reply": "2021-03-21T14:04:17.202411Z"
    },
    "papermill": {
     "duration": 0.021217,
     "end_time": "2021-03-21T14:04:17.203225",
     "exception": false,
     "start_time": "2021-03-21T14:04:17.182008",
     "status": "completed"
    },
    "tags": []
   },
   "outputs": [],
   "source": [
    "def load_model():\n",
    "    pass\n"
   ]
  },
  {
   "cell_type": "code",
   "execution_count": 11,
   "metadata": {
    "execution": {
     "iopub.execute_input": "2021-03-21T14:04:17.242837Z",
     "iopub.status.busy": "2021-03-21T14:04:17.242070Z",
     "iopub.status.idle": "2021-03-21T14:04:17.245890Z",
     "shell.execute_reply": "2021-03-21T14:04:17.245214Z"
    },
    "papermill": {
     "duration": 0.028965,
     "end_time": "2021-03-21T14:04:17.246049",
     "exception": false,
     "start_time": "2021-03-21T14:04:17.217084",
     "status": "completed"
    },
    "tags": []
   },
   "outputs": [],
   "source": [
    "\n",
    "def train(tr_set, dv_set):\n",
    "    # running_loss = 0.0\n",
    "    # for batch_idx, data in enumerate(train_loader, 0):\n",
    "    #     inputs, target = data\n",
    "    #     inputs, target = inputs.to(device), target.to(device)\n",
    "    #     optimizer.zero_grad()\n",
    "    #\n",
    "    #     outputs = model(inputs)\n",
    "    #     loss = criterion(outputs, target)\n",
    "    #     loss.backward()\n",
    "    #     optimizer.step()\n",
    "    #\n",
    "    #     running_loss += loss.item()\n",
    "    #     lossRecord[epoch] += loss.item()\n",
    "    #     if batch_idx % 10 == 0:\n",
    "    #         print('[%d, %5d] loss: %.3f' % (epoch, batch_idx, running_loss / 10))\n",
    "    #         running_loss = 0.0\n",
    "\n",
    "    min_mse = 10000.\n",
    "    loss_record = {'train': [], 'dev': []}  # for recording training loss\n",
    "    early_stop_cnt = 0\n",
    "    epoch = 0\n",
    "    while epoch < epochs:\n",
    "        model.train()  # set model to training mode\n",
    "        for x, y in tr_set:  # iterate through the dataloader\n",
    "            optimizer.zero_grad()  # set gradient to zero\n",
    "            x, y = x.to(device), y.to(device)  # move data to device (cpu/cuda)\n",
    "            pred = model(x)  # forward pass (compute output)\n",
    "            mse_loss = criterion(pred, y)  # compute loss\n",
    "            mse_loss.backward()  # compute gradient (backpropagation)\n",
    "            optimizer.step()  # update model with optimizer\n",
    "            loss_record['train'].append(mse_loss.detach().cpu().item())\n",
    "\n",
    "        # After each epoch, test your model on the validation (development) set.\n",
    "        dev_mse = dev(dv_set)\n",
    "        if dev_mse < min_mse:\n",
    "            # Save model if your model improved\n",
    "            min_mse = dev_mse\n",
    "            print('Saving model (epoch = {:4d}, loss = {:.4f})'\n",
    "                  .format(epoch + 1, min_mse))\n",
    "            torch.save(model.state_dict(), model_path)  # Save model to specified path\n",
    "            early_stop_cnt = 0\n",
    "        else:\n",
    "            early_stop_cnt += 1\n",
    "\n",
    "        epoch += 1\n",
    "        loss_record['dev'].append(dev_mse)\n",
    "        # 如果一个epoch有early_stop个epoch没有更新，则停止训练\n",
    "        if early_stop_cnt > early_stop:\n",
    "            # Stop training if your model stops improving for \"config['early_stop']\" epochs.\n",
    "            break\n",
    "\n",
    "    print('Finished training after {} epochs'.format(epoch))\n",
    "    return min_mse, loss_record\n"
   ]
  },
  {
   "cell_type": "code",
   "execution_count": 12,
   "metadata": {
    "execution": {
     "iopub.execute_input": "2021-03-21T14:04:17.284213Z",
     "iopub.status.busy": "2021-03-21T14:04:17.283145Z",
     "iopub.status.idle": "2021-03-21T14:04:17.287041Z",
     "shell.execute_reply": "2021-03-21T14:04:17.286391Z"
    },
    "papermill": {
     "duration": 0.026859,
     "end_time": "2021-03-21T14:04:17.287216",
     "exception": false,
     "start_time": "2021-03-21T14:04:17.260357",
     "status": "completed"
    },
    "tags": []
   },
   "outputs": [],
   "source": [
    "\n",
    "def dev(dv_set):\n",
    "    model.eval()                                # set model to evalutation mode\n",
    "    total_loss = 0\n",
    "    for x, y in dv_set:                         # iterate through the dataloader\n",
    "        x, y = x.to(device), y.to(device)       # move data to device (cpu/cuda)\n",
    "        with torch.no_grad():                   # disable gradient calculation\n",
    "            pred = model(x)                     # forward pass (compute output)\n",
    "            mse_loss = criterion(pred, y)  # compute loss\n",
    "        total_loss += mse_loss.detach().cpu().item() * len(x)  # accumulate loss\n",
    "    total_loss = total_loss / len(dv_set.dataset)              # compute averaged loss\n",
    "\n",
    "    return total_loss\n"
   ]
  },
  {
   "cell_type": "code",
   "execution_count": 13,
   "metadata": {
    "execution": {
     "iopub.execute_input": "2021-03-21T14:04:17.322689Z",
     "iopub.status.busy": "2021-03-21T14:04:17.321980Z",
     "iopub.status.idle": "2021-03-21T14:04:17.325760Z",
     "shell.execute_reply": "2021-03-21T14:04:17.325216Z"
    },
    "papermill": {
     "duration": 0.024572,
     "end_time": "2021-03-21T14:04:17.325918",
     "exception": false,
     "start_time": "2021-03-21T14:04:17.301346",
     "status": "completed"
    },
    "tags": []
   },
   "outputs": [],
   "source": [
    "\n",
    "def test():\n",
    "    model.eval()  # set model to evalutation mode\n",
    "    preds = []\n",
    "    for x in test_loader:  # iterate through the dataloader\n",
    "        x = x.to(device)  # move data to device (cpu/cuda)\n",
    "        with torch.no_grad():  # disable gradient calculation\n",
    "            pred = model(x)  # forward pass (compute output)\n",
    "            preds.append(pred.detach().cpu())  # collect prediction\n",
    "    preds = torch.cat(preds, dim=0).numpy()  # concatenate all predictions and convert to a numpy array\n",
    "    return preds\n"
   ]
  },
  {
   "cell_type": "code",
   "execution_count": 14,
   "metadata": {
    "execution": {
     "iopub.execute_input": "2021-03-21T14:04:17.361838Z",
     "iopub.status.busy": "2021-03-21T14:04:17.360866Z",
     "iopub.status.idle": "2021-03-21T14:04:17.364824Z",
     "shell.execute_reply": "2021-03-21T14:04:17.364161Z"
    },
    "papermill": {
     "duration": 0.024901,
     "end_time": "2021-03-21T14:04:17.364977",
     "exception": false,
     "start_time": "2021-03-21T14:04:17.340076",
     "status": "completed"
    },
    "tags": []
   },
   "outputs": [],
   "source": [
    "\n",
    "def save_pred(preds, file):\n",
    "    ''' Save predictions to specified file '''\n",
    "    with open(file, 'w', newline=\"\") as fp:\n",
    "        writer = csv.writer(fp)\n",
    "        writer.writerow(['id', 'tested_positive'])\n",
    "        for i, p in enumerate(preds):\n",
    "            writer.writerow([i, p])\n",
    "    print('Successful save results to {}'.format(file))"
   ]
  },
  {
   "cell_type": "code",
   "execution_count": 15,
   "metadata": {
    "execution": {
     "iopub.execute_input": "2021-03-21T14:04:17.402755Z",
     "iopub.status.busy": "2021-03-21T14:04:17.401811Z",
     "iopub.status.idle": "2021-03-21T14:04:17.404830Z",
     "shell.execute_reply": "2021-03-21T14:04:17.404175Z"
    },
    "papermill": {
     "duration": 0.025493,
     "end_time": "2021-03-21T14:04:17.404985",
     "exception": false,
     "start_time": "2021-03-21T14:04:17.379492",
     "status": "completed"
    },
    "tags": []
   },
   "outputs": [],
   "source": [
    "\n",
    "def plot_learning_curve(loss_record):\n",
    "    ''' Plot learning curve of your DNN (train & dev loss) '''\n",
    "    total_steps = len(loss_record['train'])\n",
    "    x_1 = range(total_steps)\n",
    "    x_2 = x_1[::len(loss_record['train']) // len(loss_record['dev'])]\n",
    "    figure(figsize=(6, 4))\n",
    "    plt.plot(x_1, loss_record['train'], c='tab:red', label='train')\n",
    "    plt.plot(x_2, loss_record['dev'], c='tab:cyan', label='dev')\n",
    "    plt.ylim(0.0, 5.)\n",
    "    plt.xlabel('Training steps')\n",
    "    plt.ylabel('MSE loss')\n",
    "    plt.title('Learning curve')\n",
    "    plt.legend()\n",
    "    plt.show()\n"
   ]
  },
  {
   "cell_type": "code",
   "execution_count": 16,
   "metadata": {
    "execution": {
     "iopub.execute_input": "2021-03-21T14:04:17.442937Z",
     "iopub.status.busy": "2021-03-21T14:04:17.442256Z",
     "iopub.status.idle": "2021-03-21T14:10:44.252984Z",
     "shell.execute_reply": "2021-03-21T14:10:44.251994Z"
    },
    "papermill": {
     "duration": 386.833628,
     "end_time": "2021-03-21T14:10:44.253228",
     "exception": false,
     "start_time": "2021-03-21T14:04:17.419600",
     "status": "completed"
    },
    "tags": []
   },
   "outputs": [
    {
     "name": "stdout",
     "output_type": "stream",
     "text": [
      "Saving model (epoch =    1, loss = 44.2446)\n",
      "Saving model (epoch =    2, loss = 18.4360)\n",
      "Saving model (epoch =    3, loss = 6.2738)\n",
      "Saving model (epoch =    4, loss = 5.6395)\n",
      "Saving model (epoch =    5, loss = 4.0320)\n",
      "Saving model (epoch =    6, loss = 3.0655)\n",
      "Saving model (epoch =    7, loss = 2.2270)\n",
      "Saving model (epoch =    8, loss = 1.7633)\n",
      "Saving model (epoch =    9, loss = 1.5082)\n",
      "Saving model (epoch =   11, loss = 1.4643)\n",
      "Saving model (epoch =   12, loss = 1.3422)\n",
      "Saving model (epoch =   14, loss = 1.2304)\n",
      "Saving model (epoch =   16, loss = 1.1859)\n",
      "Saving model (epoch =   18, loss = 1.1647)\n",
      "Saving model (epoch =   19, loss = 1.1531)\n",
      "Saving model (epoch =   21, loss = 1.1395)\n",
      "Saving model (epoch =   24, loss = 1.1075)\n",
      "Saving model (epoch =   33, loss = 1.0888)\n",
      "Saving model (epoch =   41, loss = 1.0633)\n",
      "Saving model (epoch =   46, loss = 1.0276)\n",
      "Saving model (epoch =   51, loss = 1.0117)\n",
      "Saving model (epoch =   58, loss = 1.0074)\n",
      "Saving model (epoch =   66, loss = 1.0057)\n",
      "Saving model (epoch =   69, loss = 0.9834)\n",
      "Saving model (epoch =   79, loss = 0.9831)\n",
      "Saving model (epoch =   90, loss = 0.9679)\n",
      "Saving model (epoch =   96, loss = 0.9523)\n",
      "Saving model (epoch =   99, loss = 0.9442)\n",
      "Saving model (epoch =  113, loss = 0.9382)\n",
      "Saving model (epoch =  114, loss = 0.9336)\n",
      "Saving model (epoch =  121, loss = 0.9329)\n",
      "Saving model (epoch =  137, loss = 0.9239)\n",
      "Saving model (epoch =  144, loss = 0.9164)\n",
      "Saving model (epoch =  156, loss = 0.9146)\n",
      "Saving model (epoch =  180, loss = 0.9068)\n",
      "Saving model (epoch =  188, loss = 0.9013)\n",
      "Saving model (epoch =  206, loss = 0.8997)\n",
      "Saving model (epoch =  208, loss = 0.8911)\n",
      "Saving model (epoch =  212, loss = 0.8858)\n",
      "Saving model (epoch =  246, loss = 0.8844)\n",
      "Saving model (epoch =  253, loss = 0.8707)\n",
      "Saving model (epoch =  268, loss = 0.8687)\n",
      "Saving model (epoch =  362, loss = 0.8682)\n",
      "Saving model (epoch =  385, loss = 0.8634)\n",
      "Saving model (epoch =  425, loss = 0.8589)\n",
      "Saving model (epoch =  450, loss = 0.8560)\n",
      "Saving model (epoch =  456, loss = 0.8507)\n",
      "Saving model (epoch =  586, loss = 0.8497)\n",
      "Saving model (epoch =  857, loss = 0.8480)\n",
      "Saving model (epoch =  888, loss = 0.8462)\n",
      "Saving model (epoch =  893, loss = 0.8424)\n",
      "Saving model (epoch = 1068, loss = 0.8401)\n",
      "Saving model (epoch = 1092, loss = 0.8398)\n",
      "Saving model (epoch = 1348, loss = 0.8384)\n",
      "Saving model (epoch = 1368, loss = 0.8382)\n",
      "Saving model (epoch = 1389, loss = 0.8381)\n",
      "Saving model (epoch = 1393, loss = 0.8380)\n",
      "Saving model (epoch = 1414, loss = 0.8326)\n",
      "Saving model (epoch = 1570, loss = 0.8312)\n",
      "Saving model (epoch = 1601, loss = 0.8298)\n",
      "Saving model (epoch = 1776, loss = 0.8286)\n",
      "Saving model (epoch = 1813, loss = 0.8278)\n",
      "Saving model (epoch = 1821, loss = 0.8269)\n",
      "Saving model (epoch = 1864, loss = 0.8264)\n",
      "Finished training after 2165 epochs\n"
     ]
    },
    {
     "data": {
      "image/png": "[encoded data removed]",
      "text/plain": [
       "<Figure size 432x288 with 1 Axes>"
      ]
     },
     "metadata": {
      "needs_background": "light"
     },
     "output_type": "display_data"
    },
    {
     "name": "stdout",
     "output_type": "stream",
     "text": [
      "Successful save results to pred.csv\n"
     ]
    }
   ],
   "source": [
    "\n",
    "if __name__ == '__main__':\n",
    "    model_loss, model_loss_record = train(train_loader, dev_loader)\n",
    "    plot_learning_curve(model_loss_record)\n",
    "\n",
    "    preds = test()\n",
    "\n",
    "    # print(preds.shape)\n",
    "    # print(type(preds))\n",
    "\n",
    "    save_pred(preds, 'pred.csv')\n"
   ]
  },
  {
   "cell_type": "code",
   "execution_count": null,
   "metadata": {
    "papermill": {
     "duration": 0.033301,
     "end_time": "2021-03-21T14:10:44.321619",
     "exception": false,
     "start_time": "2021-03-21T14:10:44.288318",
     "status": "completed"
    },
    "tags": []
   },
   "outputs": [],
   "source": []
  }
 ],
 "metadata": {
  "kernelspec": {
   "display_name": "Python 3",
   "language": "python",
   "name": "python3"
  },
  "language_info": {
   "codemirror_mode": {
    "name": "ipython",
    "version": 3
   },
   "file_extension": ".py",
   "mimetype": "text/x-python",
   "name": "python",
   "nbconvert_exporter": "python",
   "pygments_lexer": "ipython3",
   "version": "3.7.9"
  },
  "papermill": {
   "default_parameters": {},
   "duration": 396.639686,
   "end_time": "2021-03-21T14:10:45.267687",
   "environment_variables": {},
   "exception": null,
   "input_path": "__notebook__.ipynb",
   "output_path": "__notebook__.ipynb",
   "parameters": {},
   "start_time": "2021-03-21T14:04:08.628001",
   "version": "2.2.2"
  }
 },
 "nbformat": 4,
 "nbformat_minor": 4
}
